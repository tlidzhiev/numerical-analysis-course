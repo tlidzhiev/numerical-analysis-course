{
 "cells": [
  {
   "cell_type": "markdown",
   "metadata": {},
   "source": [
    "# Решение СЛУ прямыми методами"
   ]
  },
  {
   "cell_type": "code",
   "execution_count": null,
   "metadata": {},
   "outputs": [],
   "source": [
    "import numpy as np\n",
    "import matplotlib\n",
    "matplotlib.rcParams['image.cmap'] = 'jet'\n",
    "import matplotlib.pyplot as plt\n",
    "from numba import jit"
   ]
  },
  {
   "cell_type": "markdown",
   "metadata": {},
   "source": [
    "## Генерация нижне/верхне-треугольных матриц"
   ]
  },
  {
   "cell_type": "code",
   "execution_count": null,
   "metadata": {},
   "outputs": [],
   "source": [
    "def generate_l_matrix(n: int) -> np.ndarray:\n",
    "    eps = 1.0e-3\n",
    "    lmat = np.random.normal(0.0, 1.0, (n, n))\n",
    "    lmat = np.tril(lmat, k=0)\n",
    "    np.fill_diagonal(lmat, np.abs(np.diagonal(lmat)) + eps)\n",
    "    return lmat\n",
    "\n",
    "\n",
    "def generate_u_matrix(n: int) -> np.ndarray:\n",
    "    return np.transpose(generate_l_matrix(n))"
   ]
  },
  {
   "cell_type": "markdown",
   "metadata": {},
   "source": [
    "Сгенерируем нижне/верхне-треугольную матрицу"
   ]
  },
  {
   "cell_type": "code",
   "execution_count": null,
   "metadata": {},
   "outputs": [],
   "source": [
    "n = 600\n",
    "lmat = generate_l_matrix(n=n)\n",
    "\n",
    "fig, axes = plt.subplots(nrows=1, ncols=2)\n",
    "\n",
    "axes[0].imshow(np.absolute(lmat))\n",
    "axes[0].set_title('Нижнетреугольная матрица')\n",
    "\n",
    "umat = generate_u_matrix(n=n)\n",
    "axes[1].imshow(np.absolute(umat))\n",
    "axes[1].set_title('Верхнетреугольная матрица')\n",
    "\n",
    "plt.show()"
   ]
  },
  {
   "cell_type": "markdown",
   "metadata": {},
   "source": [
    "## LU разложение"
   ]
  },
  {
   "cell_type": "code",
   "execution_count": null,
   "metadata": {},
   "outputs": [],
   "source": [
    "def generate_l_system(n: int) -> (np.ndarray, np.array, np.array):\n",
    "    lmat = generate_l_matrix(n=n)\n",
    "    x = np.random.normal(0.0, 1.0, n)\n",
    "    y = np.dot(lmat, x)\n",
    "    return lmat, x, y\n",
    "\n",
    "\n",
    "def generate_u_system(n: int) -> (np.ndarray, np.array, np.array):\n",
    "    umat = generate_u_matrix(n=n)\n",
    "    x = np.random.normal(0.0, 1.0, n)\n",
    "    y = np.dot(umat, x)\n",
    "    return umat, x, y"
   ]
  },
  {
   "cell_type": "markdown",
   "metadata": {},
   "source": [
    "Напишем функции, которые решают СЛУ с нижне/верхне-треугольной матрицей"
   ]
  },
  {
   "cell_type": "code",
   "execution_count": null,
   "metadata": {},
   "outputs": [],
   "source": [
    "def solve_l_system(lmat: np.ndarray, y: np.ndarray) -> np.ndarray:\n",
    "    n = y.size\n",
    "    x = np.zeros(n)\n",
    "    for i in range(n):\n",
    "        x[i] = (y[i] - np.sum(lmat[i, :i] * x[:i])) / lmat[i, i]\n",
    "    return x\n",
    "\n",
    "\n",
    "def solve_u_system(umat: np.ndarray, y: np.ndarray) -> np.ndarray:\n",
    "    n = y.size\n",
    "    x = np.zeros(n)\n",
    "    for i in range(n - 1, -1, -1):\n",
    "        x[i] = (y[i] - np.sum(umat[i, (i + 1):] * x[(i + 1):])) / umat[i, i]\n",
    "    return x"
   ]
  },
  {
   "cell_type": "markdown",
   "metadata": {},
   "source": [
    "Протестируем их и посчитаем погрешность:\n",
    "\n",
    "$$\n",
    "r = \\max\\limits_{i} |x_i - x_i^{\\star}|,\n",
    "$$\n",
    "\n",
    "где $x_i, x_i^{\\star}$ - $i$-ая координата точного решения и предсказанного соответственно"
   ]
  },
  {
   "cell_type": "code",
   "execution_count": null,
   "metadata": {},
   "outputs": [],
   "source": [
    "n = 5\n",
    "lmat, x_true, y = generate_l_system(n=n)\n",
    "x_pred = solve_l_system(lmat=lmat, y=y)\n",
    "res = np.absolute(x_true - x_pred)\n",
    "res_norm = np.max(np.absolute(x_true - x_pred))\n",
    "\n",
    "print(f'Точное решение: {x_true}')\n",
    "print(f'Предсказанное решение: {x_pred}')\n",
    "\n",
    "print(f'Вектор погрешности: {res}')\n",
    "print(f'Погрешность: {res_norm}')\n",
    "\n",
    "plt.figure()\n",
    "plt.scatter(x_true, x_pred)\n",
    "\n",
    "x_min = min(np.min(x_true), np.min(x_pred))\n",
    "x_max = max(np.max(x_true), np.max(x_pred))\n",
    "plt.plot([x_min, x_max], [x_min, x_max], c='r')\n",
    "\n",
    "plt.xlabel('Точное решение')\n",
    "plt.ylabel('Предсказанное решение')\n",
    "\n",
    "plt.show()"
   ]
  },
  {
   "cell_type": "markdown",
   "metadata": {},
   "source": [
    "### Алгоритм LU разложения"
   ]
  },
  {
   "cell_type": "code",
   "execution_count": null,
   "metadata": {},
   "outputs": [],
   "source": [
    "def compute_lu_factorization(mat: np.ndarray) -> (np.ndarray, np.ndarray):\n",
    "    n, _ = mat.shape\n",
    "    lmat = np.zeros((n, n))\n",
    "    umat = np.eye(n)\n",
    "\n",
    "    for i in range(n):\n",
    "        # заполняем i-ую строку lmat\n",
    "        for j in range(i + 1):\n",
    "            lmat[i, j] = (mat[i, j] - np.sum(lmat[i, :j] * umat[:j, j])) / umat[j, j]\n",
    "\n",
    "        # заполняем i-ую строку umat\n",
    "        for j in range(i + 1, n):\n",
    "            umat[i, j] = (mat[i, j] - np.sum(lmat[i, :i] * umat[:i, j])) / lmat[i, i]\n",
    "    return lmat, umat"
   ]
  },
  {
   "cell_type": "markdown",
   "metadata": {},
   "source": [
    "Проверим наш код вычисления LU разложения"
   ]
  },
  {
   "cell_type": "code",
   "execution_count": null,
   "metadata": {},
   "outputs": [],
   "source": [
    "n = 5\n",
    "mat_true = np.dot(generate_l_matrix(n=n), generate_u_matrix(n=n))\n",
    "lmat, umat = compute_lu_factorization(mat=mat_true)\n",
    "mat_pred = np.dot(lmat, umat)\n",
    "res_norm = np.max(np.absolute(mat_true - mat_pred))\n",
    "\n",
    "print('Исходная матрица:', mat_true, sep='\\n')\n",
    "print('Предсказанная матрица:', mat_pred, sep='\\n')\n",
    "print(f'Погрешность: {res_norm}')"
   ]
  },
  {
   "cell_type": "markdown",
   "metadata": {},
   "source": [
    "## Разложение Холецкого"
   ]
  },
  {
   "cell_type": "code",
   "execution_count": null,
   "metadata": {},
   "outputs": [],
   "source": [
    "def compute_cholesky_factorization(mat: np.ndarray) -> np.ndarray:\n",
    "    n, _ = mat.shape\n",
    "    lmat = np.zeros((n, n))\n",
    "\n",
    "    for j in range(n):\n",
    "        lmat[j, j] = np.sqrt(mat[j, j] - np.dot(lmat[j, :j], lmat[j, :j]))\n",
    "\n",
    "        for i in range(j + 1, n):\n",
    "            lmat[i, j] = (mat[i, j] - np.sum(lmat[i, :j] * lmat[j, :j])) / lmat[j, j]\n",
    "    return lmat"
   ]
  },
  {
   "cell_type": "markdown",
   "metadata": {},
   "source": [
    "Проверим наш код вычисления разложения Холецкого"
   ]
  },
  {
   "cell_type": "code",
   "execution_count": null,
   "metadata": {},
   "outputs": [],
   "source": [
    "n = 5\n",
    "lmat_true = generate_l_matrix(n=n)\n",
    "mat = np.dot(lmat_true, np.transpose(lmat_true))\n",
    "lmat_pred = compute_cholesky_factorization(mat=mat)\n",
    "res_norm = np.max(np.absolute(lmat_true - lmat_pred))\n",
    "\n",
    "print('Исходная матрица:', lmat_true, sep='\\n')\n",
    "print('Предсказанная матрица:', lmat_pred, sep='\\n')\n",
    "print(f'Погрешность: {res_norm}')"
   ]
  },
  {
   "cell_type": "markdown",
   "metadata": {},
   "source": [
    "## Решение СЛУ с помощью LU разложения и разложения Холецкого"
   ]
  },
  {
   "cell_type": "code",
   "execution_count": null,
   "metadata": {},
   "outputs": [],
   "source": [
    "def compute_solution_gen(mat: np.ndarray, y: np.ndarray) -> np.ndarray:\n",
    "    lmat, umat = compute_lu_factorization(mat=mat)\n",
    "    z = solve_l_system(lmat=lmat, y=y)\n",
    "    x = solve_u_system(umat=umat, y=z)\n",
    "    return x\n",
    "\n",
    "\n",
    "def compute_solution_spd(mat: np.ndarray, y: np.ndarray) -> np.ndarray:\n",
    "    lmat = compute_cholesky_factorization(mat=mat)\n",
    "    z = solve_l_system(lmat=lmat, y=y)\n",
    "    x = solve_u_system(umat=np.transpose(lmat), y=z)\n",
    "    return x"
   ]
  },
  {
   "cell_type": "markdown",
   "metadata": {},
   "source": [
    "Протестируем оба метода"
   ]
  },
  {
   "cell_type": "code",
   "execution_count": null,
   "metadata": {},
   "outputs": [],
   "source": [
    "# LU factorization\n",
    "\n",
    "n = 5\n",
    "mat = np.dot(generate_l_matrix(n=n), generate_u_matrix(n=n))\n",
    "x_true = np.random.normal(0.0, 1.0, n)\n",
    "y = np.dot(mat, x_true)\n",
    "\n",
    "x_pred = compute_solution_gen(mat=mat, y=y)\n",
    "res_norm = np.max(np.absolute(x_true - x_pred))\n",
    "\n",
    "print(f'Точное решение: {x_true}')\n",
    "print(f'Предсказанное решение: {x_pred}')\n",
    "\n",
    "print(f'Вектор погрешности: {res}')\n",
    "print(f'Погрешность: {res_norm}')\n",
    "\n",
    "plt.figure()\n",
    "plt.scatter(x_true, x_pred)\n",
    "\n",
    "x_min = min(np.min(x_true), np.min(x_pred))\n",
    "x_max = max(np.max(x_true), np.max(x_pred))\n",
    "plt.plot([x_min, x_max], [x_min, x_max], c='r')\n",
    "\n",
    "plt.xlabel('Точное решение')\n",
    "plt.ylabel('Предсказанное решение')\n",
    "\n",
    "plt.show()"
   ]
  },
  {
   "cell_type": "code",
   "execution_count": null,
   "metadata": {},
   "outputs": [],
   "source": [
    "# Cholesky factorization vs LU factorization\n",
    "\n",
    "n = 10\n",
    "lmat = generate_l_matrix(n=n)\n",
    "mat = np.dot(lmat, np.transpose(lmat))\n",
    "x_true = np.random.normal(0.0, 1.0, n)\n",
    "y = np.dot(mat, x_true)\n",
    "\n",
    "x_pred_gen = compute_solution_gen(mat=mat, y=y)\n",
    "x_pred_spd = compute_solution_spd(mat=mat, y=y)\n",
    "\n",
    "res_norm_gen = np.max(np.absolute(x_true, x_pred_gen))\n",
    "res_norm_spd = np.max(np.absolute(x_true, x_pred_spd))\n",
    "\n",
    "print(f'Точное решение: {x_true}')\n",
    "print(f'Предсказанное решение LU разложением: {x_pred_gen}')\n",
    "print(f'Предсказанное решение разложением Холецкого: {x_pred_spd}')\n",
    "\n",
    "print(f'Погрешность LU разложения: {res_norm_gen}')\n",
    "print(f'Погрешность разложения Холецкого: {res_norm_spd}')\n",
    "\n",
    "plt.figure()\n",
    "plt.scatter(x_true, x_pred_gen)\n",
    "plt.scatter(x_true, x_pred_spd)\n",
    "\n",
    "x_min = min(np.min(x_true), np.min(x_pred))\n",
    "x_max = max(np.max(x_true), np.max(x_pred))\n",
    "plt.plot([x_min, x_max], [x_min, x_max], c='r')\n",
    "\n",
    "plt.xlabel('Точное решение')\n",
    "plt.ylabel('Предсказанное решение')\n",
    "\n",
    "plt.show()"
   ]
  },
  {
   "cell_type": "code",
   "execution_count": null,
   "metadata": {},
   "outputs": [],
   "source": []
  }
 ],
 "metadata": {
  "kernelspec": {
   "display_name": "base",
   "language": "python",
   "name": "python3"
  },
  "language_info": {
   "codemirror_mode": {
    "name": "ipython",
    "version": 3
   },
   "file_extension": ".py",
   "mimetype": "text/x-python",
   "name": "python",
   "nbconvert_exporter": "python",
   "pygments_lexer": "ipython3",
   "version": "3.11.5"
  }
 },
 "nbformat": 4,
 "nbformat_minor": 2
}
